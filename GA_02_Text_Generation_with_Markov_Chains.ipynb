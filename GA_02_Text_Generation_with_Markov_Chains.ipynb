{
  "nbformat": 4,
  "nbformat_minor": 0,
  "metadata": {
    "colab": {
      "provenance": [],
      "authorship_tag": "ABX9TyP0DusthuMYvAKKXsoQcjyu",
      "include_colab_link": true
    },
    "kernelspec": {
      "name": "python3",
      "display_name": "Python 3"
    },
    "language_info": {
      "name": "python"
    }
  },
  "cells": [
    {
      "cell_type": "markdown",
      "metadata": {
        "id": "view-in-github",
        "colab_type": "text"
      },
      "source": [
        "<a href=\"https://colab.research.google.com/github/Parth-349/PRODIGY_GA_03/blob/main/GA_02_Text_Generation_with_Markov_Chains.ipynb\" target=\"_parent\"><img src=\"https://colab.research.google.com/assets/colab-badge.svg\" alt=\"Open In Colab\"/></a>"
      ]
    },
    {
      "cell_type": "code",
      "execution_count": null,
      "metadata": {
        "id": "qItIKSauf9j8"
      },
      "outputs": [],
      "source": [
        "import random\n",
        "\n",
        "# 🔧 Step 1: Build the Markov Chain\n",
        "def build_markov_chain(text, n=1):\n",
        "    words = text.split()\n",
        "    markov_chain = {}\n",
        "\n",
        "    for i in range(len(words) - n):\n",
        "        key = tuple(words[i:i + n])\n",
        "        next_word = words[i + n]\n",
        "        if key not in markov_chain:\n",
        "            markov_chain[key] = []\n",
        "        markov_chain[key].append(next_word)\n",
        "\n",
        "    return markov_chain\n",
        "\n",
        "# 🔧 Step 2: Generate Text from the Chain\n",
        "    random.seed(42)\n",
        "def generate_text(chain, length=50, n=1):\n",
        "    start = random.choice(list(chain.keys()))\n",
        "    result = list(start)\n",
        "\n",
        "    for _ in range(length - n):\n",
        "        key = tuple(result[-n:])\n",
        "        if key in chain:\n",
        "            next_word = random.choice(chain[key])\n",
        "            result.append(next_word)\n",
        "        else:\n",
        "            break\n",
        "\n",
        "    return ' '.join(result)\n",
        "\n",
        "# 📝 Step 3: Input text (you can change this)\n",
        "sample_text = \"\"\"\n",
        "The quick brown fox jumps over the lazy dog.\n",
        "The quick brown fox is fast and clever.\n",
        "The lazy dog lies down and watches.\n",
        "\"\"\"\n",
        "\n",
        "# ⚙️ Step 4: Build and Generate\n",
        "n = 1  # Order of the chain (1 = unigram, 2 = bigram, etc.)\n",
        "chain = build_markov_chain(sample_text, n=n)\n",
        "generated_text = generate_text(chain, length=30, n=n)\n",
        "\n",
        "# 📤 Step 5: Output\n",
        "print(\"📄 Generated Text:\\n\")\n",
        "print(generated_text)\n"
      ]
    }
  ]
}