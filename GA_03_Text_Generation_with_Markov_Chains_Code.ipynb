{
  "nbformat": 4,
  "nbformat_minor": 0,
  "metadata": {
    "colab": {
      "provenance": [],
      "mount_file_id": "14BdyW6Vqm2PMLjxpAbucHY9pEPhCUkVi",
      "authorship_tag": "ABX9TyMitgvVi2VxOFdl1wzOOoSA",
      "include_colab_link": true
    },
    "kernelspec": {
      "name": "python3",
      "display_name": "Python 3"
    },
    "language_info": {
      "name": "python"
    }
  },
  "cells": [
    {
      "cell_type": "markdown",
      "metadata": {
        "id": "view-in-github",
        "colab_type": "text"
      },
      "source": [
        "<a href=\"https://colab.research.google.com/github/Parth-349/PRODIGY_GA_03/blob/main/GA_03_Text_Generation_with_Markov_Chains_Code.ipynb\" target=\"_parent\"><img src=\"https://colab.research.google.com/assets/colab-badge.svg\" alt=\"Open In Colab\"/></a>"
      ]
    },
    {
      "cell_type": "code",
      "execution_count": null,
      "metadata": {
        "id": "qItIKSauf9j8"
      },
      "outputs": [],
      "source": [
        "import random\n",
        "import re\n",
        "\n",
        "# Preprocess input text\n",
        "def preprocess_text(text):\n",
        "    text = re.sub(r'[^\\w\\s.]', '', text)\n",
        "    text = re.sub(r'\\s+', ' ', text).strip().lower()\n",
        "    return text\n",
        "\n",
        "# Build n-gram Markov chain\n",
        "def build_markov_chain(text, n=2):\n",
        "    words = text.split()\n",
        "    markov_chain = {}\n",
        "    for i in range(len(words) - n):\n",
        "        key = tuple(words[i:i + n])\n",
        "        next_word = words[i + n]\n",
        "        markov_chain.setdefault(key, []).append(next_word)\n",
        "    return markov_chain\n",
        "\n",
        "# Generate text using Markov chain\n",
        "def generate_text(chain, length=50, n=2, seed=None):\n",
        "    if seed is not None:\n",
        "        random.seed(seed)\n",
        "\n",
        "    start_keys = [k for k in chain if k[0][0].isalpha()]\n",
        "    if not start_keys:\n",
        "        return \" Not enough data to generate text.\"\n",
        "\n",
        "    current = random.choice(start_keys)\n",
        "    result = list(current)\n",
        "\n",
        "    for _ in range(length - n):\n",
        "        key = tuple(result[-n:])\n",
        "        next_words = chain.get(key)\n",
        "        if not next_words:\n",
        "            break\n",
        "        result.append(random.choice(next_words))\n",
        "\n",
        "    return ' '.join(result)\n",
        "\n",
        "# Input text (replace this with your own)\n",
        "sample_text = \"\"\"\n",
        "Alice was beginning to get very tired of sitting by her sister on the bank, and of having nothing to do.\n",
        "Once or twice she had peeped into the book her sister was reading, but it had no pictures or conversations in it.\n",
        "\"So what is the use of a book,\" thought Alice, \"without pictures or conversations?\"\n",
        "\"\"\"\n",
        "\n",
        "# Configuration\n",
        "n = 2\n",
        "length = 50\n",
        "seed = 41\n",
        "\n",
        "# Run the generator\n",
        "clean_text = preprocess_text(sample_text)\n",
        "chain = build_markov_chain(clean_text, n=n)\n",
        "generated = generate_text(chain, length=length, n=n, seed=seed)\n",
        "\n",
        "# Output\n",
        "print(\" Generated Text:\\n\")\n",
        "print(generated)\n"
      ]
    }
  ]
}